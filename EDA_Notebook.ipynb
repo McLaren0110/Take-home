{
 "cells": [
  {
   "cell_type": "markdown",
   "metadata": {},
   "source": [
    "# EDA and Notes\n",
    "\n",
    "## Project Goal - Predicting Termination Likelihood of Financial Arrangements\n",
    "\n",
    "This use case focuses on building a predictive model using an anonymized dataset containing detailed records of financial arrangements. The target is the 'Terminated' feature, a binary variable describing whether an arrangement was terminated. \n",
    "\n",
    "## Project steps\n",
    "\n",
    "1. Exploratory Data Analysis\n",
    "2. Data pre-processing\n",
    "3. Model Building and Fine-tuning\n",
    "4. Evaluating results\n"
   ]
  },
  {
   "cell_type": "markdown",
   "metadata": {},
   "source": [
    "Importing packages, loading data"
   ]
  },
  {
   "cell_type": "code",
   "execution_count": null,
   "metadata": {},
   "outputs": [],
   "source": [
    "import pandas as pd; pd.set_option('display.max_columns', None)\n",
    "import numpy as np\n",
    "import matplotlib.pyplot as plt\n",
    "import seaborn as sns"
   ]
  },
  {
   "cell_type": "code",
   "execution_count": null,
   "metadata": {},
   "outputs": [],
   "source": [
    "data = pd.read_csv('data/dataset_v2.csv')\n",
    "data.info()"
   ]
  },
  {
   "cell_type": "markdown",
   "metadata": {},
   "source": [
    "Dataset contains a mix of float64 and int64 types, not consistent across categorical/numerical. Missing features described in the task document, but missing features have no predictive value (either by proxy or unavailable at time of prediction). \n",
    "\n",
    "Several features with large proportion of null values:\n",
    "\n",
    "1. arrears_months - numerical , HANDLED\n",
    "2. Arrears_category - categorical, DROPPED\n",
    "3. NoMonths_FirstPayment - numerical, HANDLED\n",
    "4. NoMonth_FirstMissedPayment numerical, HANDLED\n",
    "\n",
    "Upon inspection large proportion of features with ethical/legal(GDPR) considerations. Protected characteristics include:\n",
    "\n",
    "1. Age\n",
    "2. Sex\n",
    "3. Race\n",
    "4. Socioeconomic attributes\n",
    "5. Marriage / Civil Partnership status\n",
    "\n",
    "No information on DPIA, informed consent, best to drop these - see full list in data_preprocessing.py. Worth noting that in initial model tests, social grade percentages are amongst the top 10 most important features."
   ]
  },
  {
   "cell_type": "code",
   "execution_count": null,
   "metadata": {},
   "outputs": [],
   "source": [
    "data.describe()"
   ]
  },
  {
   "cell_type": "markdown",
   "metadata": {},
   "source": [
    "Mean disposable income greater than household income? Consider dropping without further information"
   ]
  },
  {
   "cell_type": "code",
   "execution_count": null,
   "metadata": {},
   "outputs": [],
   "source": [
    "print(data['Terminated'].value_counts())\n",
    "plt.figure(figsize=(4, 6))\n",
    "sns.countplot(x='Terminated', data=data, palette=['#e424b2', '#172344'])\n",
    "plt.title(\"Target Distribution\")\n",
    "plt.show()"
   ]
  },
  {
   "cell_type": "code",
   "execution_count": null,
   "metadata": {},
   "outputs": [],
   "source": [
    "# Find duplicate rows\n",
    "duplicate_rows = data[data.duplicated()]\n",
    "print(duplicate_rows)"
   ]
  },
  {
   "cell_type": "markdown",
   "metadata": {},
   "source": [
    "Removing features with ethical or data protection concerns"
   ]
  },
  {
   "cell_type": "code",
   "execution_count": null,
   "metadata": {},
   "outputs": [],
   "source": [
    "data.drop(['Partner_Gender', \n",
    "           'Partner_Employment_Status',\n",
    "           'Output_Area_Classification_Code',\n",
    "           'Lower_Super_Output_Area_Code',\n",
    "           'AB',\n",
    "           'C1',\n",
    "           'C2',\n",
    "           'DE', \n",
    "           'DOB_Year', \n",
    "           'DOB_Month',\n",
    "           'Gender',\n",
    "           'Partner_Gender',\n",
    "           'Partner_Employment_Status',\n",
    "           'under_18',\n",
    "           'Marital_Status',\n",
    "           'Physical_Disability_Vulnerability',\n",
    "           'Illness_Vulnerability',\n",
    "           'Addiction_Vulnerability',\n",
    "           'Mental_Health_Vulnerability',\n",
    "           'age',\n",
    "           'age_partner',\n",
    "           'DOB_Year',\n",
    "           'DOB_Month'],\n",
    "           axis=1, inplace=True)"
   ]
  },
  {
   "cell_type": "code",
   "execution_count": null,
   "metadata": {},
   "outputs": [],
   "source": [
    "correlation_data = data.corr()\n",
    "plt.figure(figsize=(24, 20))\n",
    "# Apply a mask to the upper triangle\n",
    "mask = np.triu(np.ones_like(correlation_data, dtype=bool))\n",
    "sns.heatmap(correlation_data, annot=False, cmap='coolwarm', fmt='.2f', linewidths=2, mask=mask)\n",
    "plt.title('Correlation Matrix')\n",
    "plt.show()\n",
    "\n",
    "plt.figure(figsize=(6, 10))\n",
    "sns.heatmap(correlation_data[['Terminated']].sort_values(by='Terminated', ascending=False), annot=True, cmap='coolwarm', fmt='.2f', linewidths=2)"
   ]
  },
  {
   "cell_type": "markdown",
   "metadata": {},
   "source": [
    "High correlation between arrears category, amount, and months. Strong inverse correlation between contributions expected, months before first missed payment and contributions received to date. \n",
    "\n",
    "Not necessarily causation but worth noting for evaluation. Strong correlation between arrears amount and arrears category, but without more information I'm uncomfortable using imputation for ~73% of the arrangements. "
   ]
  },
  {
   "cell_type": "code",
   "execution_count": null,
   "metadata": {},
   "outputs": [],
   "source": [
    "categorical_features = ['Employment_Status', \n",
    "                        'home_owner_flag', \n",
    "                        'Arrears_Category', \n",
    "                        'agreed_missed_flag']\n",
    "\n",
    "numerical_rows = (len(categorical_features) + 2) // 3\n",
    "\n",
    "fig, axes = plt.subplots(numerical_rows, 3, figsize=(16, 6 * numerical_rows))\n",
    "\n",
    "for i, feature in enumerate(categorical_features):\n",
    "    row = i // 3\n",
    "    col = i % 3\n",
    "    if numerical_rows > 1:\n",
    "        ax = axes[row, col]\n",
    "    else:\n",
    "        ax = axes[col]\n",
    "\n",
    "    sns.countplot(x=feature, data=data, ax=ax)\n",
    "    ax.set_title(f'Distribution of {feature}')\n",
    "    ax.set_xlabel(feature)\n",
    "    ax.set_ylabel('Count')\n",
    "\n",
    "plt.tight_layout()\n",
    "plt.show()\n"
   ]
  },
  {
   "cell_type": "code",
   "execution_count": null,
   "metadata": {},
   "outputs": [],
   "source": [
    "# Disable future warnings - not a great fix\n",
    "import warnings\n",
    "warnings.simplefilter(action='ignore', category=FutureWarning)\n",
    "\n",
    "all_features = set(data.columns)\n",
    "numerical_features = list(all_features - set(categorical_features))\n",
    "num_numerical_features = len(numerical_features)\n",
    "numerical_rows = (num_numerical_features + 2) // 3\n",
    "\n",
    "fig, axes = plt.subplots(numerical_rows, 3, figsize=(16, 6 * numerical_rows))\n",
    "\n",
    "for i, feature in enumerate(numerical_features):\n",
    "    row = i // 3\n",
    "    col = i % 3\n",
    "    if numerical_rows > 1:\n",
    "        ax = axes[row, col]\n",
    "    else:\n",
    "        ax = axes[col]\n",
    "\n",
    "    sns.histplot(data[feature], kde=True, ax=ax)\n",
    "    ax.set_title(f\"Distribution of {feature}\")\n",
    "    ax.set_xlabel(feature)\n",
    "    ax.set_ylabel(\"Count\")\n",
    "\n",
    "plt.tight_layout()\n",
    "plt.show()\n",
    "\n",
    "\n"
   ]
  },
  {
   "cell_type": "markdown",
   "metadata": {},
   "source": [
    "Numerical features don't all appear normally distributed or from inspection, independent - rule out logistic regression for now. Outlier in nomonth first missed payment, drop that row for training/testing.\n",
    "\n",
    "Why is household disposable income often much larger than household income? Total income just referring to wages while Disposable includes other sources? Recommend dropping without further information on source of data."
   ]
  },
  {
   "cell_type": "code",
   "execution_count": null,
   "metadata": {},
   "outputs": [],
   "source": [
    "for i in range(0, len(numerical_features), 5):\n",
    "    sns.pairplot(data, \n",
    "                 x_vars=numerical_features[i:i+3], \n",
    "                 y_vars='Terminated', \n",
    "                 hue='Terminated', \n",
    "                 palette=['#e424b2', '#172344'])\n"
   ]
  },
  {
   "cell_type": "code",
   "execution_count": null,
   "metadata": {},
   "outputs": [],
   "source": [
    "num_features = len(numerical_features)\n",
    "num_rows = (num_features + 2) // 3\n",
    "fig, axes = plt.subplots(num_rows, 3, figsize=(18, 6*num_rows))\n",
    "\n",
    "for i, feature in enumerate(numerical_features):\n",
    "    row = i // 3\n",
    "    col = i % 3\n",
    "    ax = axes[row, col]\n",
    "    sns.boxplot(x='Terminated', y=feature, data=data, ax=ax)\n",
    "    ax.set_title(f'Boxplot of {feature} by Terminated')\n",
    "    ax.set_xlabel('Terminated')\n",
    "    ax.set_ylabel(feature)\n",
    "\n",
    "# Remove empty subplots\n",
    "if num_features % 3 != 0:\n",
    "    for i in range(num_features % 3, 3):\n",
    "        fig.delaxes(axes[num_rows-1, i])\n",
    "\n",
    "plt.tight_layout()\n",
    "plt.show()\n"
   ]
  },
  {
   "cell_type": "markdown",
   "metadata": {},
   "source": [
    "Distributions agree with correlation and feature importances, "
   ]
  },
  {
   "cell_type": "code",
   "execution_count": null,
   "metadata": {},
   "outputs": [],
   "source": [
    "# Count the number of entries where disposable income is greater than house total income\n",
    "print(data[data['household_DI'] > data['household_income']].shape[0])"
   ]
  }
 ],
 "metadata": {
  "kernelspec": {
   "display_name": "datascience",
   "language": "python",
   "name": "python3"
  },
  "language_info": {
   "codemirror_mode": {
    "name": "ipython",
    "version": 3
   },
   "file_extension": ".py",
   "mimetype": "text/x-python",
   "name": "python",
   "nbconvert_exporter": "python",
   "pygments_lexer": "ipython3",
   "version": "3.12.2"
  }
 },
 "nbformat": 4,
 "nbformat_minor": 2
}
